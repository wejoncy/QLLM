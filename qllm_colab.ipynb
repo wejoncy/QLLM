{
 "cells": [
  {
   "cell_type": "markdown",
   "metadata": {},
   "source": [
    "# Install qllm"
   ]
  },
  {
   "cell_type": "code",
   "execution_count": null,
   "metadata": {},
   "outputs": [],
   "source": [
    "%pip install qllm\n",
    "%pip install fschat accelerate\n"
   ]
  },
  {
   "cell_type": "markdown",
   "metadata": {},
   "source": [
    "# quantize qwen with gptq/hqq\n",
    "NOTE: awq will consume more memory"
   ]
  },
  {
   "cell_type": "code",
   "execution_count": null,
   "metadata": {},
   "outputs": [],
   "source": [
    "!python -m qllm --model Qwen/Qwen2.5-3B-Instruct --quant_method gptq --eval --save ./qwen2.5-3b-instruct_4bit\n",
    "# or python -m qllm --model Qwen/Qwen2.5-3B-Instruct --quant_method hqq --eval --save ./qwen2.5-3b-instruct_4bit"
   ]
  },
  {
   "cell_type": "code",
   "execution_count": null,
   "metadata": {},
   "outputs": [],
   "source": [
    "# API\n",
    "from qllm.plugin.conversation import loop_in_chat_completion\n",
    "from qllm.auto_model_quantization import AutoModelQuantization\n",
    "import transformers\n",
    "m='Qwen/Qwen2.5-3B-Instruct'\n",
    "quantizer = AutoModelQuantization()\n",
    "tokenizer = transformers.AutoTokenizer.from_pretrained(m, use_fast=True, trust_remote_code=True)\n",
    "\n",
    "qm = quantizer.api_quantize(m, quant_method='hqq')\n",
    "loop_in_chat_completion(tokenizer, qm)"
   ]
  },
  {
   "cell_type": "markdown",
   "metadata": {},
   "source": [
    "# Run Tinyllama-2 with qllm cli"
   ]
  },
  {
   "cell_type": "code",
   "execution_count": null,
   "metadata": {},
   "outputs": [],
   "source": [
    "!python -m qllm --load TheBloke/Tinyllama-2-1b-miniguanaco-GPTQ --use_plugin"
   ]
  },
  {
   "cell_type": "markdown",
   "metadata": {},
   "source": [
    "# Run Llama-3-8B-Instruct with qllm API"
   ]
  },
  {
   "cell_type": "code",
   "execution_count": null,
   "metadata": {},
   "outputs": [],
   "source": [
    "from qllm.plugin.conversation import loop_in_chat_completion\n",
    "from qllm.auto_model_quantization import AutoModelQuantization\n",
    "import transformers\n",
    "\n",
    "quantizer = AutoModelQuantization()\n",
    "model=quantizer.from_pretrained(\"astronomer/Llama-3-8B-Instruct-GPTQ-4-Bit\")\n",
    "tokenizer = transformers.AutoTokenizer.from_pretrained(\"astronomer/Llama-3-8B-Instruct-GPTQ-4-Bit\", use_fast=True, trust_remote_code=True)\n",
    "\n",
    "loop_in_chat_completion(tokenizer, model)"
   ]
  }
 ],
 "metadata": {
  "accelerator": "GPU",
  "colab": {
   "gpuType": "T4",
   "include_colab_link": true,
   "provenance": []
  },
  "kernelspec": {
   "display_name": "base",
   "language": "python",
   "name": "python3"
  },
  "language_info": {
   "codemirror_mode": {
    "name": "ipython",
    "version": 3
   },
   "file_extension": ".py",
   "mimetype": "text/x-python",
   "name": "python",
   "nbconvert_exporter": "python",
   "pygments_lexer": "ipython3",
   "version": "3.11.5"
  }
 },
 "nbformat": 4,
 "nbformat_minor": 2
}
